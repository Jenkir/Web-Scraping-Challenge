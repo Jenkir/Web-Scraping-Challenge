{
 "cells": [
  {
   "cell_type": "code",
   "execution_count": 1,
   "metadata": {},
   "outputs": [],
   "source": [
    "#dependencies\n",
    "from splinter import Browser\n",
    "from bs4 import BeautifulSoup as bs\n",
    "import pandas as pd\n",
    "import datetime as dt\n",
    "from webdriver_manager.chrome import ChromeDriverManager"
   ]
  },
  {
   "cell_type": "code",
   "execution_count": 2,
   "metadata": {},
   "outputs": [],
   "source": [
    "def scrape_all():\n",
    "    # Set up Splinter\n",
    "    executable_path = {'executable_path': ChromeDriverManager().install()}\n",
    "    browser = Browser('chrome', **executable_path, headless=False)\n",
    "    \n",
    "    news_title, news_par = mar_news(browser)\n",
    "    \n",
    "    # execute scraping functions; store in a dictionary\n",
    "    mars_data = {\n",
    "        \"news_title\": news_title,\n",
    "        \"news_par\": news_par,\n",
    "        \"featured_image_url\": featured_image_url(browser),\n",
    "        \"mars_facts\": mars_facts(),\n",
    "        \"hemispheres\": hemispheres(browser),\n",
    "        \"last_modified\": dt.datetime.now()\n",
    "    }\n",
    "    \n",
    "    #stop webdriver & return data\n",
    "    browser.quit()\n",
    "    return mars_data\n",
    "    "
   ]
  },
  {
   "cell_type": "code",
   "execution_count": 3,
   "metadata": {},
   "outputs": [],
   "source": [
    "def mars_news(browser):\n",
    "    \n",
    "    #scrape news from Mars site\n",
    "    url = 'https://redplanetscience.com/'\n",
    "    browser.visit(url)\n",
    "    \n",
    "    #convert html to soup object\n",
    "   \n",
    "    html = browser.html\n",
    "    news_soup = soup(html, \"html.parser\")\n",
    "\n",
    "    # return data\n",
    "    \n",
    "    return news_title, news_par"
   ]
  },
  {
   "cell_type": "code",
   "execution_count": 5,
   "metadata": {},
   "outputs": [],
   "source": [
    "def featured_image_url(browser):\n",
    "    \n",
    "    #scrape news from Mars site\n",
    "    url = 'https://spaceimages-mars.com'\n",
    "    browser.visit(url)\n",
    "#create html object\n",
    "    html_image = browser.html\n",
    "\n",
    "#parse html using Beautiful Soup\n",
    "    image_soup = BeautifulSoup(html_image, 'html.parser')\n",
    "\n",
    "    featured_image_url = url + featured_image_url\n",
    "    \n",
    "    # return data\n",
    "    \n",
    "    return featured_image_url"
   ]
  },
  {
   "cell_type": "code",
   "execution_count": null,
   "metadata": {},
   "outputs": [],
   "source": []
  }
 ],
 "metadata": {
  "kernelspec": {
   "display_name": "Python 3",
   "language": "python",
   "name": "python3"
  },
  "language_info": {
   "codemirror_mode": {
    "name": "ipython",
    "version": 3
   },
   "file_extension": ".py",
   "mimetype": "text/x-python",
   "name": "python",
   "nbconvert_exporter": "python",
   "pygments_lexer": "ipython3",
   "version": "3.7.9"
  }
 },
 "nbformat": 4,
 "nbformat_minor": 4
}
